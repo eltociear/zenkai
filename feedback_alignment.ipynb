{
 "cells": [
  {
   "cell_type": "code",
   "execution_count": 1,
   "metadata": {},
   "outputs": [],
   "source": [
    "import torch\n",
    "import torch.nn as nn\n",
    "\n"
   ]
  },
  {
   "cell_type": "code",
   "execution_count": 3,
   "metadata": {},
   "outputs": [
    {
     "name": "stdout",
     "output_type": "stream",
     "text": [
      "tensor([[ 0.1821,  0.4766,  0.4225],\n",
      "        [ 0.1882,  0.5896,  0.5279],\n",
      "        [ 0.1157,  0.2866,  0.2663],\n",
      "        [-0.0356, -0.1496, -0.1434]])\n",
      "tensor([[ 0.1821,  0.4766,  0.4225],\n",
      "        [ 0.1882,  0.5896,  0.5279],\n",
      "        [ 0.1157,  0.2866,  0.2663],\n",
      "        [-0.0356, -0.1496, -0.1434]])\n"
     ]
    }
   ],
   "source": [
    "\n",
    "layer1a = nn.Linear(3, 4)\n",
    "layer1b = nn.Linear(3, 4)\n",
    "act1a = nn.Sigmoid()\n",
    "act1b = nn.Sigmoid()\n",
    "layer2 = nn.Linear(4, 3)\n",
    "\n",
    "x = torch.rand(3, 3)\n",
    "t = torch.rand(3, 3)\n",
    "\n",
    "\n",
    "y1a = layer1a(x)\n",
    "y1b = layer1b(x)\n",
    "\n",
    "\n",
    "y1a_det = y1a.detach()\n",
    "y1a_det.requires_grad = True\n",
    "y1a_det.retain_grad()\n",
    "\n",
    "\n",
    "y1a_act = act1a(y1a_det)\n",
    "# y1b_act = act1b(y1b)\n",
    "y2 = layer2(y1a_act)\n",
    "\n",
    "\n",
    "(y2 - t).pow(2).sum().backward()\n",
    "\n",
    "y1b.backward(y1a_det.grad)\n",
    "y1a.backward(y1a_det.grad)\n",
    "\n",
    "print(layer1a.weight.grad)\n",
    "print(layer1b.weight.grad)"
   ]
  }
 ],
 "metadata": {
  "kernelspec": {
   "display_name": "pytorchx",
   "language": "python",
   "name": "python3"
  },
  "language_info": {
   "codemirror_mode": {
    "name": "ipython",
    "version": 3
   },
   "file_extension": ".py",
   "mimetype": "text/x-python",
   "name": "python",
   "nbconvert_exporter": "python",
   "pygments_lexer": "ipython3",
   "version": "3.8.12"
  },
  "orig_nbformat": 4
 },
 "nbformat": 4,
 "nbformat_minor": 2
}
