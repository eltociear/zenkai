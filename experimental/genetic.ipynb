{
 "cells": [
  {
   "cell_type": "code",
   "execution_count": null,
   "metadata": {},
   "outputs": [],
   "source": []
  },
  {
   "cell_type": "code",
   "execution_count": 2,
   "metadata": {},
   "outputs": [],
   "source": [
    "import initialize"
   ]
  },
  {
   "cell_type": "code",
   "execution_count": 3,
   "metadata": {},
   "outputs": [],
   "source": [
    "\n",
    "# 1) create the optimization algorithm\n",
    "# 2) decide on th\n",
    "\n",
    "\n",
    "# x*1 + y* 2\n",
    "# lambda x, y: x * 1 + y * 2\n",
    "# Constaint = LTE(x=100, y=50) & GTE(x=0, y=0)\n",
    "# genetic = Genetic()\n",
    "# fitter.fit(func, constraint, x=20, y=30, const=['x'], penalty=-inf)\n",
    "# fitter.step( state=state)\n",
    "# 1) create the individual -> only x\n",
    "# 2) populate\n",
    "# 3) If not first\n",
    "#    get children\n",
    "#    cross over\n",
    "#    elitism\n",
    "# 3) mutate\n",
    "# 4) assess\n",
    "# 5) yield assessments"
   ]
  },
  {
   "cell_type": "code",
   "execution_count": 4,
   "metadata": {},
   "outputs": [
    {
     "ename": "ImportError",
     "evalue": "cannot import name 'ObjectivePopulationAssessor' from 'zenkai.tansaku.assessors' (/Users/shortg/Development/zenkai/zenkai/tansaku/assessors.py)",
     "output_type": "error",
     "traceback": [
      "\u001b[0;31m---------------------------------------------------------------------------\u001b[0m",
      "\u001b[0;31mImportError\u001b[0m                               Traceback (most recent call last)",
      "\u001b[1;32m/Users/shortg/Development/zenkai/experimental/genetic.ipynb セル 4\u001b[0m line \u001b[0;36m<cell line: 1>\u001b[0;34m()\u001b[0m\n\u001b[0;32m----> <a href='vscode-notebook-cell:/Users/shortg/Development/zenkai/experimental/genetic.ipynb#W2sZmlsZQ%3D%3D?line=0'>1</a>\u001b[0m \u001b[39mfrom\u001b[39;00m \u001b[39mzenkai\u001b[39;00m \u001b[39mimport\u001b[39;00m tansaku\n\u001b[1;32m      <a href='vscode-notebook-cell:/Users/shortg/Development/zenkai/experimental/genetic.ipynb#W2sZmlsZQ%3D%3D?line=2'>3</a>\u001b[0m x \u001b[39m=\u001b[39m \u001b[39m20\u001b[39m\n\u001b[1;32m      <a href='vscode-notebook-cell:/Users/shortg/Development/zenkai/experimental/genetic.ipynb#W2sZmlsZQ%3D%3D?line=3'>4</a>\u001b[0m y \u001b[39m=\u001b[39m \u001b[39m30\u001b[39m\n",
      "File \u001b[0;32m~/Development/zenkai/zenkai/__init__.py:6\u001b[0m, in \u001b[0;36m<module>\u001b[0;34m\u001b[0m\n\u001b[1;32m      3\u001b[0m __version__ \u001b[39m=\u001b[39m \u001b[39m\"\u001b[39m\u001b[39m0.0.1\u001b[39m\u001b[39m\"\u001b[39m\n\u001b[1;32m      5\u001b[0m \u001b[39m# from .perceptron import perceptron\u001b[39;00m\n\u001b[0;32m----> 6\u001b[0m \u001b[39mfrom\u001b[39;00m \u001b[39m.\u001b[39;00m \u001b[39mimport\u001b[39;00m kikai, tansaku, utils\n\u001b[1;32m      7\u001b[0m \u001b[39mfrom\u001b[39;00m \u001b[39m.\u001b[39;00m\u001b[39mkaku\u001b[39;00m \u001b[39mimport\u001b[39;00m \u001b[39m*\u001b[39m\n",
      "File \u001b[0;32m~/Development/zenkai/zenkai/kikai/__init__.py:30\u001b[0m, in \u001b[0;36m<module>\u001b[0;34m\u001b[0m\n\u001b[1;32m      1\u001b[0m \u001b[39m# flake8: noqa\u001b[39;00m\n\u001b[1;32m      3\u001b[0m \u001b[39m\"\"\"\u001b[39;00m\n\u001b[1;32m      4\u001b[0m \u001b[39mBasic learning machine classes. \u001b[39;00m\n\u001b[1;32m      5\u001b[0m \n\u001b[0;32m   (...)\u001b[0m\n\u001b[1;32m     27\u001b[0m \n\u001b[1;32m     28\u001b[0m \u001b[39m\"\"\"\u001b[39;00m\n\u001b[0;32m---> 30\u001b[0m \u001b[39mfrom\u001b[39;00m \u001b[39m.\u001b[39;00m\u001b[39m.\u001b[39;00m\u001b[39mkikai\u001b[39;00m\u001b[39m.\u001b[39;00m\u001b[39mhill\u001b[39;00m \u001b[39mimport\u001b[39;00m HillClimbBinaryStepX, HillClimbStepX\n\u001b[1;32m     31\u001b[0m \u001b[39mfrom\u001b[39;00m \u001b[39m.\u001b[39;00m\u001b[39mgrad\u001b[39;00m \u001b[39mimport\u001b[39;00m (\n\u001b[1;32m     32\u001b[0m     GradLearner,\n\u001b[1;32m     33\u001b[0m     GradLoopLearner,\n\u001b[0;32m   (...)\u001b[0m\n\u001b[1;32m     40\u001b[0m     update_x,\n\u001b[1;32m     41\u001b[0m )\n\u001b[1;32m     42\u001b[0m \u001b[39mfrom\u001b[39;00m \u001b[39m.\u001b[39;00m\u001b[39mleast_squares\u001b[39;00m \u001b[39mimport\u001b[39;00m (\n\u001b[1;32m     43\u001b[0m     LeastSquaresLearner,\n\u001b[1;32m     44\u001b[0m     LeastSquaresRidgeSolver,\n\u001b[0;32m   (...)\u001b[0m\n\u001b[1;32m     49\u001b[0m     GradLeastSquaresLearner\n\u001b[1;32m     50\u001b[0m )\n",
      "File \u001b[0;32m~/Development/zenkai/zenkai/kikai/hill.py:10\u001b[0m, in \u001b[0;36m<module>\u001b[0;34m\u001b[0m\n\u001b[1;32m      1\u001b[0m \u001b[39m# local\u001b[39;00m\n\u001b[1;32m      2\u001b[0m \u001b[39mfrom\u001b[39;00m \u001b[39m.\u001b[39;00m\u001b[39m.\u001b[39;00m\u001b[39mkaku\u001b[39;00m \u001b[39mimport\u001b[39;00m (\n\u001b[1;32m      3\u001b[0m     IO,\n\u001b[1;32m      4\u001b[0m     FeatureIdxStepX,\n\u001b[0;32m   (...)\u001b[0m\n\u001b[1;32m      8\u001b[0m     update_io,\n\u001b[1;32m      9\u001b[0m )\n\u001b[0;32m---> 10\u001b[0m \u001b[39mfrom\u001b[39;00m \u001b[39m.\u001b[39;00m\u001b[39m.\u001b[39;00m\u001b[39mtansaku\u001b[39;00m\u001b[39m.\u001b[39;00m\u001b[39massessors\u001b[39;00m \u001b[39mimport\u001b[39;00m XPopulationAssessor\n\u001b[1;32m     11\u001b[0m \u001b[39mfrom\u001b[39;00m \u001b[39m.\u001b[39;00m\u001b[39m.\u001b[39;00m\u001b[39mtansaku\u001b[39;00m\u001b[39m.\u001b[39;00m\u001b[39mcore\u001b[39;00m \u001b[39mimport\u001b[39;00m Individual\n\u001b[1;32m     12\u001b[0m \u001b[39mfrom\u001b[39;00m \u001b[39m.\u001b[39;00m\u001b[39m.\u001b[39;00m\u001b[39mtansaku\u001b[39;00m\u001b[39m.\u001b[39;00m\u001b[39minfluencers\u001b[39;00m \u001b[39mimport\u001b[39;00m SlopeInfluencer, PopulationLimiter\n",
      "File \u001b[0;32m~/Development/zenkai/zenkai/tansaku/__init__.py:3\u001b[0m, in \u001b[0;36m<module>\u001b[0;34m\u001b[0m\n\u001b[1;32m      1\u001b[0m \u001b[39m# flake8: noqa\u001b[39;00m\n\u001b[0;32m----> 3\u001b[0m \u001b[39mfrom\u001b[39;00m \u001b[39m.\u001b[39;00m\u001b[39massessors\u001b[39;00m \u001b[39mimport\u001b[39;00m (\n\u001b[1;32m      4\u001b[0m     PopulationAssessor, XPopulationAssessor,\n\u001b[1;32m      5\u001b[0m     ObjectivePopulationAssessor\n\u001b[1;32m      6\u001b[0m )\n\u001b[1;32m      7\u001b[0m \u001b[39mfrom\u001b[39;00m \u001b[39m.\u001b[39;00m\u001b[39mcore\u001b[39;00m \u001b[39mimport\u001b[39;00m (\n\u001b[1;32m      8\u001b[0m     Individual,\n\u001b[1;32m      9\u001b[0m     Population,\n\u001b[0;32m   (...)\u001b[0m\n\u001b[1;32m     31\u001b[0m     get_model_parameters\n\u001b[1;32m     32\u001b[0m )\n\u001b[1;32m     33\u001b[0m \u001b[39mfrom\u001b[39;00m \u001b[39m.\u001b[39;00m\u001b[39mexploration\u001b[39;00m \u001b[39mimport\u001b[39;00m (\n\u001b[1;32m     34\u001b[0m     AssessmentDist,\n\u001b[1;32m     35\u001b[0m     EqualsAssessmentDist,\n\u001b[0;32m   (...)\u001b[0m\n\u001b[1;32m     47\u001b[0m     remove_noise,\n\u001b[1;32m     48\u001b[0m )\n",
      "\u001b[0;31mImportError\u001b[0m: cannot import name 'ObjectivePopulationAssessor' from 'zenkai.tansaku.assessors' (/Users/shortg/Development/zenkai/zenkai/tansaku/assessors.py)"
     ]
    }
   ],
   "source": [
    "from zenkai import tansaku\n",
    "\n",
    "x = 20\n",
    "y = 30\n",
    "populator = tansaku.RepeatPopulator(10)\n",
    "\n",
    "objective = tansaku.ObjectivePopulationAssessor\n",
    "\n",
    "# how to convert to float\n",
    "individual = tansaku.Individual(x=20.0, y=30.0)\n",
    "population = populator.populate(individual)\n",
    "\n",
    "mutator = tansaku.GaussianMutator(0.2, 0.0)\n",
    "population = mutator(population)\n",
    "\n",
    "population = tansaku.Population(\n",
    "    x=population['x'].clamp(0, 30),\n",
    "    y=population['y'].clamp(0, 20)\n",
    ")\n",
    "\n",
    "print(population['x'])\n",
    "\n",
    "# # Add a \"Lambda\" constraint\n",
    "# LC(['x', 't'], lambda x, t: 2 * x + 3 * t < 4)\n",
    "# LC() + \n",
    "\n",
    "objective = tansaku.FuncObjective(lambda x, y: 3 * x + 5 * y)\n",
    "assessor = tansaku.ObjectivePopAssessor(objective, ['x', 'y'])\n",
    "population = assessor(population)\n"
   ]
  }
 ],
 "metadata": {
  "kernelspec": {
   "display_name": "py310torch",
   "language": "python",
   "name": "python3"
  },
  "language_info": {
   "codemirror_mode": {
    "name": "ipython",
    "version": 3
   },
   "file_extension": ".py",
   "mimetype": "text/x-python",
   "name": "python",
   "nbconvert_exporter": "python",
   "pygments_lexer": "ipython3",
   "version": "3.10.5"
  },
  "orig_nbformat": 4
 },
 "nbformat": 4,
 "nbformat_minor": 2
}
