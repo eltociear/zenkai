{
 "cells": [
  {
   "cell_type": "code",
   "execution_count": null,
   "metadata": {},
   "outputs": [],
   "source": []
  },
  {
   "cell_type": "code",
   "execution_count": 1,
   "metadata": {},
   "outputs": [],
   "source": [
    "import initialize"
   ]
  },
  {
   "cell_type": "code",
   "execution_count": 3,
   "metadata": {},
   "outputs": [],
   "source": [
    "\n",
    "# 1) create the optimization algorithm\n",
    "# 2) decide on th\n",
    "\n",
    "\n",
    "# x*1 + y* 2\n",
    "# lambda x, y: x * 1 + y * 2\n",
    "# Constaint = LTE(x=100, y=50) & GTE(x=0, y=0)\n",
    "# genetic = Genetic()\n",
    "# fitter.fit(func, constraint, x=20, y=30, const=['x'], penalty=-inf)\n",
    "# fitter.step( state=state)\n",
    "# 1) create the individual -> only x\n",
    "# 2) populate\n",
    "# 3) If not first\n",
    "#    get children\n",
    "#    cross over\n",
    "#    elitism\n",
    "# 3) mutate\n",
    "# 4) assess\n",
    "# 5) yield assessments"
   ]
  },
  {
   "cell_type": "code",
   "execution_count": 6,
   "metadata": {},
   "outputs": [
    {
     "name": "stdout",
     "output_type": "stream",
     "text": [
      "tensor([19.9950, 20.1688, 20.0895, 19.6756, 20.0603, 20.1703, 20.0250, 19.8389,\n",
      "        19.8742, 20.2237])\n",
      "\n",
      "        Assessment(maximize: False, value: tensor([159.9850, 160.5065, 160.2685, 159.0266, 160.1809, 160.5109, 160.0750,\n",
      "        159.5167, 159.6227, 160.6711]))\n",
      "        \n",
      "tensor([20.0895, 20.0895]) tensor([19.6756, 19.8742])\n",
      "tensor([19.9420, 20.0641])\n"
     ]
    }
   ],
   "source": [
    "from zenkai import tansaku\n",
    "\n",
    "x = 20\n",
    "y = 30\n",
    "populator = tansaku.RepeatPopulator(10)\n",
    "\n",
    "\n",
    "objective = tansaku.FuncObjective(\n",
    "    lambda x, y: 2 * x + 2.5 * y \n",
    ")\n",
    "\n",
    "# how to convert to float\n",
    "individual = tansaku.Individual(x=20.0, y=30.0)\n",
    "population = populator(individual)\n",
    "\n",
    "mutator = tansaku.GaussianMutator(0.2, 0.0)\n",
    "population = mutator(population)\n",
    "\n",
    "population = tansaku.Population(\n",
    "    x=population['x'].clamp(0, 30),\n",
    "    y=population['y'].clamp(0, 20)\n",
    ")\n",
    "\n",
    "\n",
    "\n",
    "print(population['x'])\n",
    "\n",
    "# # Add a \"Lambda\" constraint\n",
    "# LC(['x', 't'], lambda x, t: 2 * x + 3 * t < 4)\n",
    "# LC() + \n",
    "\n",
    "objective = tansaku.FuncObjective(lambda x, y: 3 * x + 5 * y, penalty=1000)\n",
    "assessor = tansaku.ObjectivePopAssessor(objective, ['x', 'y'])\n",
    "\n",
    "population = assessor(population)\n",
    "\n",
    "divider = tansaku.FitnessProportionateDivider(2)\n",
    "parents1, parents2 = divider(population)\n",
    "\n",
    "print(parents1['x'], parents2['x'])\n",
    "crossover = tansaku.SmoothCrossOverBreeder()\n",
    "children =crossover(parents1, parents2)\n",
    "print(children['x'])\n",
    "\n",
    "elitism = tansaku.KBestElitism(2)\n",
    "children2 = elitism(population, children)\n",
    "print(children2['x'])\n"
   ]
  }
 ],
 "metadata": {
  "kernelspec": {
   "display_name": "py310torch",
   "language": "python",
   "name": "python3"
  },
  "language_info": {
   "codemirror_mode": {
    "name": "ipython",
    "version": 3
   },
   "file_extension": ".py",
   "mimetype": "text/x-python",
   "name": "python",
   "nbconvert_exporter": "python",
   "pygments_lexer": "ipython3",
   "version": "3.8.12"
  },
  "orig_nbformat": 4
 },
 "nbformat": 4,
 "nbformat_minor": 2
}
